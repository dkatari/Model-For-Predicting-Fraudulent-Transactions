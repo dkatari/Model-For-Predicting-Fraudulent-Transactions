{
 "cells": [
  {
   "cell_type": "markdown",
   "id": "93919d10",
   "metadata": {},
   "source": [
    "  <h1 style=\"color: red;\">Predicting fraudulent transactions</h1>"
   ]
  },
  {
   "cell_type": "code",
   "execution_count": 1,
   "id": "e385f76f",
   "metadata": {},
   "outputs": [],
   "source": [
    "import pandas as pd\n",
    "import scipy.stats as st\n",
    "import numpy as np\n",
    "import seaborn as sns\n",
    "import matplotlib.pyplot as plt\n",
    "from sklearn.preprocessing import LabelEncoder\n",
    "from sklearn.preprocessing import MinMaxScaler\n",
    "from sklearn.linear_model import LogisticRegression\n",
    "from sklearn.model_selection import train_test_split\n",
    "from sklearn.metrics import accuracy_score, confusion_matrix, classification_report\n",
    "from sklearn.model_selection import cross_val_score\n",
    "from sklearn.tree import DecisionTreeClassifier\n",
    "import warnings\n",
    "warnings.filterwarnings('ignore')"
   ]
  },
  {
   "cell_type": "markdown",
   "id": "803a6aa3",
   "metadata": {},
   "source": [
    "<h2> Load Dataset </h2>"
   ]
  },
  {
   "cell_type": "code",
   "execution_count": 2,
   "id": "6ea1c488",
   "metadata": {},
   "outputs": [],
   "source": [
    "df = pd.read_csv(\"Fraud.csv\")"
   ]
  },
  {
   "cell_type": "markdown",
   "id": "b5137afd",
   "metadata": {},
   "source": [
    "<h2>Understanding Data</h2>"
   ]
  },
  {
   "cell_type": "code",
   "execution_count": 3,
   "id": "1920533d",
   "metadata": {
    "scrolled": true
   },
   "outputs": [
    {
     "data": {
      "text/html": [
       "<div>\n",
       "<style scoped>\n",
       "    .dataframe tbody tr th:only-of-type {\n",
       "        vertical-align: middle;\n",
       "    }\n",
       "\n",
       "    .dataframe tbody tr th {\n",
       "        vertical-align: top;\n",
       "    }\n",
       "\n",
       "    .dataframe thead th {\n",
       "        text-align: right;\n",
       "    }\n",
       "</style>\n",
       "<table border=\"1\" class=\"dataframe\">\n",
       "  <thead>\n",
       "    <tr style=\"text-align: right;\">\n",
       "      <th></th>\n",
       "      <th>step</th>\n",
       "      <th>type</th>\n",
       "      <th>amount</th>\n",
       "      <th>nameOrig</th>\n",
       "      <th>oldbalanceOrg</th>\n",
       "      <th>newbalanceOrig</th>\n",
       "      <th>nameDest</th>\n",
       "      <th>oldbalanceDest</th>\n",
       "      <th>newbalanceDest</th>\n",
       "      <th>isFraud</th>\n",
       "      <th>isFlaggedFraud</th>\n",
       "    </tr>\n",
       "  </thead>\n",
       "  <tbody>\n",
       "    <tr>\n",
       "      <th>0</th>\n",
       "      <td>1</td>\n",
       "      <td>PAYMENT</td>\n",
       "      <td>9839.64</td>\n",
       "      <td>C1231006815</td>\n",
       "      <td>170136.0</td>\n",
       "      <td>160296.36</td>\n",
       "      <td>M1979787155</td>\n",
       "      <td>0.0</td>\n",
       "      <td>0.0</td>\n",
       "      <td>0</td>\n",
       "      <td>0</td>\n",
       "    </tr>\n",
       "    <tr>\n",
       "      <th>1</th>\n",
       "      <td>1</td>\n",
       "      <td>PAYMENT</td>\n",
       "      <td>1864.28</td>\n",
       "      <td>C1666544295</td>\n",
       "      <td>21249.0</td>\n",
       "      <td>19384.72</td>\n",
       "      <td>M2044282225</td>\n",
       "      <td>0.0</td>\n",
       "      <td>0.0</td>\n",
       "      <td>0</td>\n",
       "      <td>0</td>\n",
       "    </tr>\n",
       "    <tr>\n",
       "      <th>2</th>\n",
       "      <td>1</td>\n",
       "      <td>TRANSFER</td>\n",
       "      <td>181.00</td>\n",
       "      <td>C1305486145</td>\n",
       "      <td>181.0</td>\n",
       "      <td>0.00</td>\n",
       "      <td>C553264065</td>\n",
       "      <td>0.0</td>\n",
       "      <td>0.0</td>\n",
       "      <td>1</td>\n",
       "      <td>0</td>\n",
       "    </tr>\n",
       "    <tr>\n",
       "      <th>3</th>\n",
       "      <td>1</td>\n",
       "      <td>CASH_OUT</td>\n",
       "      <td>181.00</td>\n",
       "      <td>C840083671</td>\n",
       "      <td>181.0</td>\n",
       "      <td>0.00</td>\n",
       "      <td>C38997010</td>\n",
       "      <td>21182.0</td>\n",
       "      <td>0.0</td>\n",
       "      <td>1</td>\n",
       "      <td>0</td>\n",
       "    </tr>\n",
       "    <tr>\n",
       "      <th>4</th>\n",
       "      <td>1</td>\n",
       "      <td>PAYMENT</td>\n",
       "      <td>11668.14</td>\n",
       "      <td>C2048537720</td>\n",
       "      <td>41554.0</td>\n",
       "      <td>29885.86</td>\n",
       "      <td>M1230701703</td>\n",
       "      <td>0.0</td>\n",
       "      <td>0.0</td>\n",
       "      <td>0</td>\n",
       "      <td>0</td>\n",
       "    </tr>\n",
       "  </tbody>\n",
       "</table>\n",
       "</div>"
      ],
      "text/plain": [
       "   step      type    amount     nameOrig  oldbalanceOrg  newbalanceOrig  \\\n",
       "0     1   PAYMENT   9839.64  C1231006815       170136.0       160296.36   \n",
       "1     1   PAYMENT   1864.28  C1666544295        21249.0        19384.72   \n",
       "2     1  TRANSFER    181.00  C1305486145          181.0            0.00   \n",
       "3     1  CASH_OUT    181.00   C840083671          181.0            0.00   \n",
       "4     1   PAYMENT  11668.14  C2048537720        41554.0        29885.86   \n",
       "\n",
       "      nameDest  oldbalanceDest  newbalanceDest  isFraud  isFlaggedFraud  \n",
       "0  M1979787155             0.0             0.0        0               0  \n",
       "1  M2044282225             0.0             0.0        0               0  \n",
       "2   C553264065             0.0             0.0        1               0  \n",
       "3    C38997010         21182.0             0.0        1               0  \n",
       "4  M1230701703             0.0             0.0        0               0  "
      ]
     },
     "execution_count": 3,
     "metadata": {},
     "output_type": "execute_result"
    }
   ],
   "source": [
    "df.head()"
   ]
  },
  {
   "cell_type": "code",
   "execution_count": 4,
   "id": "2347cdc4",
   "metadata": {},
   "outputs": [
    {
     "name": "stdout",
     "output_type": "stream",
     "text": [
      "<class 'pandas.core.frame.DataFrame'>\n",
      "RangeIndex: 6362620 entries, 0 to 6362619\n",
      "Data columns (total 11 columns):\n",
      " #   Column          Dtype  \n",
      "---  ------          -----  \n",
      " 0   step            int64  \n",
      " 1   type            object \n",
      " 2   amount          float64\n",
      " 3   nameOrig        object \n",
      " 4   oldbalanceOrg   float64\n",
      " 5   newbalanceOrig  float64\n",
      " 6   nameDest        object \n",
      " 7   oldbalanceDest  float64\n",
      " 8   newbalanceDest  float64\n",
      " 9   isFraud         int64  \n",
      " 10  isFlaggedFraud  int64  \n",
      "dtypes: float64(5), int64(3), object(3)\n",
      "memory usage: 534.0+ MB\n"
     ]
    }
   ],
   "source": [
    "df.info()"
   ]
  },
  {
   "cell_type": "markdown",
   "id": "8fb5f2fe",
   "metadata": {},
   "source": [
    "<b>step</b> - maps a unit of time in the real world. In this case 1 step is 1 hour of time. Total steps 744 (30 days simulation).\n",
    "\n",
    "<b>type</b> - CASH-IN, CASH-OUT, DEBIT, PAYMENT and TRANSFER.\n",
    "\n",
    "<b>amount</b> - amount of the transaction in local currency.\n",
    "\n",
    "<b>nameOrig</b> - customer who started the transaction\n",
    "\n",
    "<b>oldbalanceOrg</b> - initial balance before the transaction\n",
    "\n",
    "<b>newbalanceOrig</b> - new balance after the transaction\n",
    "\n",
    "<b>nameDest</b> - customer who is the recipient of the transaction\n",
    "\n",
    "<b>oldbalanceDest</b> - initial balance recipient before the transaction. Note that there is not information for customers that start with M (Merchants).\n",
    "\n",
    "<b>newbalanceDest</b> - new balance recipient after the transaction. Note that there is not information for customers that start with M (Merchants).\n",
    "\n",
    "<b>isFraud</b> - This is the transactions made by the fraudulent agents inside the simulation. In this specific dataset the fraudulent behavior of the agents aims to profit by taking control or customers accounts and try to empty the funds by transferring to another account and then cashing out of the system.\n",
    "\n",
    "<b>isFlaggedFraud</b> - The business model aims to control massive transfers from one account to another and flags illegal attempts. An illegal attempt in this dataset is an attempt to transfer more than 200.000 in a single transaction."
   ]
  },
  {
   "cell_type": "code",
   "execution_count": 5,
   "id": "93b28021",
   "metadata": {},
   "outputs": [
    {
     "data": {
      "text/plain": [
       "(6362620, 11)"
      ]
     },
     "execution_count": 5,
     "metadata": {},
     "output_type": "execute_result"
    }
   ],
   "source": [
    "df.shape"
   ]
  },
  {
   "cell_type": "code",
   "execution_count": 6,
   "id": "cb3042d2",
   "metadata": {},
   "outputs": [
    {
     "data": {
      "text/plain": [
       "step              0\n",
       "type              0\n",
       "amount            0\n",
       "nameOrig          0\n",
       "oldbalanceOrg     0\n",
       "newbalanceOrig    0\n",
       "nameDest          0\n",
       "oldbalanceDest    0\n",
       "newbalanceDest    0\n",
       "isFraud           0\n",
       "isFlaggedFraud    0\n",
       "dtype: int64"
      ]
     },
     "execution_count": 6,
     "metadata": {},
     "output_type": "execute_result"
    }
   ],
   "source": [
    "df.isna().sum()"
   ]
  },
  {
   "cell_type": "code",
   "execution_count": 7,
   "id": "1a1f4b49",
   "metadata": {},
   "outputs": [],
   "source": [
    "df.drop_duplicates(inplace = True)"
   ]
  },
  {
   "cell_type": "code",
   "execution_count": 8,
   "id": "129612e0",
   "metadata": {},
   "outputs": [
    {
     "data": {
      "text/html": [
       "<div>\n",
       "<style scoped>\n",
       "    .dataframe tbody tr th:only-of-type {\n",
       "        vertical-align: middle;\n",
       "    }\n",
       "\n",
       "    .dataframe tbody tr th {\n",
       "        vertical-align: top;\n",
       "    }\n",
       "\n",
       "    .dataframe thead th {\n",
       "        text-align: right;\n",
       "    }\n",
       "</style>\n",
       "<table border=\"1\" class=\"dataframe\">\n",
       "  <thead>\n",
       "    <tr style=\"text-align: right;\">\n",
       "      <th></th>\n",
       "      <th>step</th>\n",
       "      <th>amount</th>\n",
       "      <th>oldbalanceOrg</th>\n",
       "      <th>newbalanceOrig</th>\n",
       "      <th>oldbalanceDest</th>\n",
       "      <th>newbalanceDest</th>\n",
       "      <th>isFraud</th>\n",
       "      <th>isFlaggedFraud</th>\n",
       "    </tr>\n",
       "  </thead>\n",
       "  <tbody>\n",
       "    <tr>\n",
       "      <th>count</th>\n",
       "      <td>6362620.00</td>\n",
       "      <td>6362620.00</td>\n",
       "      <td>6362620.00</td>\n",
       "      <td>6362620.00</td>\n",
       "      <td>6362620.00</td>\n",
       "      <td>6362620.00</td>\n",
       "      <td>6362620.00</td>\n",
       "      <td>6362620.00</td>\n",
       "    </tr>\n",
       "    <tr>\n",
       "      <th>mean</th>\n",
       "      <td>243.40</td>\n",
       "      <td>179861.90</td>\n",
       "      <td>833883.10</td>\n",
       "      <td>855113.67</td>\n",
       "      <td>1100701.67</td>\n",
       "      <td>1224996.40</td>\n",
       "      <td>0.00</td>\n",
       "      <td>0.00</td>\n",
       "    </tr>\n",
       "    <tr>\n",
       "      <th>std</th>\n",
       "      <td>142.33</td>\n",
       "      <td>603858.23</td>\n",
       "      <td>2888242.67</td>\n",
       "      <td>2924048.50</td>\n",
       "      <td>3399180.11</td>\n",
       "      <td>3674128.94</td>\n",
       "      <td>0.04</td>\n",
       "      <td>0.00</td>\n",
       "    </tr>\n",
       "    <tr>\n",
       "      <th>min</th>\n",
       "      <td>1.00</td>\n",
       "      <td>0.00</td>\n",
       "      <td>0.00</td>\n",
       "      <td>0.00</td>\n",
       "      <td>0.00</td>\n",
       "      <td>0.00</td>\n",
       "      <td>0.00</td>\n",
       "      <td>0.00</td>\n",
       "    </tr>\n",
       "    <tr>\n",
       "      <th>25%</th>\n",
       "      <td>156.00</td>\n",
       "      <td>13389.57</td>\n",
       "      <td>0.00</td>\n",
       "      <td>0.00</td>\n",
       "      <td>0.00</td>\n",
       "      <td>0.00</td>\n",
       "      <td>0.00</td>\n",
       "      <td>0.00</td>\n",
       "    </tr>\n",
       "    <tr>\n",
       "      <th>50%</th>\n",
       "      <td>239.00</td>\n",
       "      <td>74871.94</td>\n",
       "      <td>14208.00</td>\n",
       "      <td>0.00</td>\n",
       "      <td>132705.66</td>\n",
       "      <td>214661.44</td>\n",
       "      <td>0.00</td>\n",
       "      <td>0.00</td>\n",
       "    </tr>\n",
       "    <tr>\n",
       "      <th>75%</th>\n",
       "      <td>335.00</td>\n",
       "      <td>208721.48</td>\n",
       "      <td>107315.18</td>\n",
       "      <td>144258.41</td>\n",
       "      <td>943036.71</td>\n",
       "      <td>1111909.25</td>\n",
       "      <td>0.00</td>\n",
       "      <td>0.00</td>\n",
       "    </tr>\n",
       "    <tr>\n",
       "      <th>max</th>\n",
       "      <td>743.00</td>\n",
       "      <td>92445516.64</td>\n",
       "      <td>59585040.37</td>\n",
       "      <td>49585040.37</td>\n",
       "      <td>356015889.35</td>\n",
       "      <td>356179278.92</td>\n",
       "      <td>1.00</td>\n",
       "      <td>1.00</td>\n",
       "    </tr>\n",
       "  </tbody>\n",
       "</table>\n",
       "</div>"
      ],
      "text/plain": [
       "            step      amount  oldbalanceOrg  newbalanceOrig  oldbalanceDest  \\\n",
       "count 6362620.00  6362620.00     6362620.00      6362620.00      6362620.00   \n",
       "mean      243.40   179861.90      833883.10       855113.67      1100701.67   \n",
       "std       142.33   603858.23     2888242.67      2924048.50      3399180.11   \n",
       "min         1.00        0.00           0.00            0.00            0.00   \n",
       "25%       156.00    13389.57           0.00            0.00            0.00   \n",
       "50%       239.00    74871.94       14208.00            0.00       132705.66   \n",
       "75%       335.00   208721.48      107315.18       144258.41       943036.71   \n",
       "max       743.00 92445516.64    59585040.37     49585040.37    356015889.35   \n",
       "\n",
       "       newbalanceDest    isFraud  isFlaggedFraud  \n",
       "count      6362620.00 6362620.00      6362620.00  \n",
       "mean       1224996.40       0.00            0.00  \n",
       "std        3674128.94       0.04            0.00  \n",
       "min              0.00       0.00            0.00  \n",
       "25%              0.00       0.00            0.00  \n",
       "50%         214661.44       0.00            0.00  \n",
       "75%        1111909.25       0.00            0.00  \n",
       "max      356179278.92       1.00            1.00  "
      ]
     },
     "execution_count": 8,
     "metadata": {},
     "output_type": "execute_result"
    }
   ],
   "source": [
    "pd.set_option('display.float_format','{:.2f}'.format)\n",
    "df.describe()"
   ]
  },
  {
   "cell_type": "code",
   "execution_count": 9,
   "id": "4aeb83d8",
   "metadata": {},
   "outputs": [
    {
     "data": {
      "text/html": [
       "<div>\n",
       "<style scoped>\n",
       "    .dataframe tbody tr th:only-of-type {\n",
       "        vertical-align: middle;\n",
       "    }\n",
       "\n",
       "    .dataframe tbody tr th {\n",
       "        vertical-align: top;\n",
       "    }\n",
       "\n",
       "    .dataframe thead th {\n",
       "        text-align: right;\n",
       "    }\n",
       "</style>\n",
       "<table border=\"1\" class=\"dataframe\">\n",
       "  <thead>\n",
       "    <tr style=\"text-align: right;\">\n",
       "      <th></th>\n",
       "      <th>type</th>\n",
       "      <th>nameOrig</th>\n",
       "      <th>nameDest</th>\n",
       "    </tr>\n",
       "  </thead>\n",
       "  <tbody>\n",
       "    <tr>\n",
       "      <th>count</th>\n",
       "      <td>6362620</td>\n",
       "      <td>6362620</td>\n",
       "      <td>6362620</td>\n",
       "    </tr>\n",
       "    <tr>\n",
       "      <th>unique</th>\n",
       "      <td>5</td>\n",
       "      <td>6353307</td>\n",
       "      <td>2722362</td>\n",
       "    </tr>\n",
       "    <tr>\n",
       "      <th>top</th>\n",
       "      <td>CASH_OUT</td>\n",
       "      <td>C1902386530</td>\n",
       "      <td>C1286084959</td>\n",
       "    </tr>\n",
       "    <tr>\n",
       "      <th>freq</th>\n",
       "      <td>2237500</td>\n",
       "      <td>3</td>\n",
       "      <td>113</td>\n",
       "    </tr>\n",
       "  </tbody>\n",
       "</table>\n",
       "</div>"
      ],
      "text/plain": [
       "            type     nameOrig     nameDest\n",
       "count    6362620      6362620      6362620\n",
       "unique         5      6353307      2722362\n",
       "top     CASH_OUT  C1902386530  C1286084959\n",
       "freq     2237500            3          113"
      ]
     },
     "execution_count": 9,
     "metadata": {},
     "output_type": "execute_result"
    }
   ],
   "source": [
    "df.describe(include = 'object')"
   ]
  },
  {
   "cell_type": "markdown",
   "id": "e3355845",
   "metadata": {},
   "source": [
    "<h2> Understanding Data </h2>"
   ]
  },
  {
   "cell_type": "markdown",
   "id": "cece60b0",
   "metadata": {},
   "source": [
    "<h3> Univariate Analysis </h3> "
   ]
  },
  {
   "cell_type": "code",
   "execution_count": 10,
   "id": "170cbfa9",
   "metadata": {},
   "outputs": [
    {
     "data": {
      "text/plain": [
       "type\n",
       "CASH_OUT    2237500\n",
       "PAYMENT     2151495\n",
       "CASH_IN     1399284\n",
       "TRANSFER     532909\n",
       "DEBIT         41432\n",
       "Name: count, dtype: int64"
      ]
     },
     "execution_count": 10,
     "metadata": {},
     "output_type": "execute_result"
    }
   ],
   "source": [
    "df['type'].value_counts()"
   ]
  },
  {
   "cell_type": "code",
   "execution_count": 11,
   "id": "b37b7a86",
   "metadata": {},
   "outputs": [
    {
     "data": {
      "text/plain": [
       "<Axes: xlabel='type', ylabel='count'>"
      ]
     },
     "execution_count": 11,
     "metadata": {},
     "output_type": "execute_result"
    },
    {
     "data": {
      "image/png": "[encoded data removed]",
      "text/plain": [
       "<Figure size 640x480 with 1 Axes>"
      ]
     },
     "metadata": {},
     "output_type": "display_data"
    }
   ],
   "source": [
    "sns.countplot(x = df['type'], data = df)"
   ]
  },
  {
   "cell_type": "code",
   "execution_count": 12,
   "id": "57bb024f",
   "metadata": {},
   "outputs": [
    {
     "name": "stdout",
     "output_type": "stream",
     "text": [
      "6362620\n",
      "(6362620, 11)\n"
     ]
    }
   ],
   "source": [
    "print(df['nameOrig'].str.startswith('C').count())\n",
    "print(df.shape)"
   ]
  },
  {
   "cell_type": "markdown",
   "id": "85cd700f",
   "metadata": {},
   "source": [
    "<b>The nameOrig column has no anomalies.</b>"
   ]
  },
  {
   "cell_type": "code",
   "execution_count": 13,
   "id": "bc5efe02",
   "metadata": {},
   "outputs": [
    {
     "data": {
      "text/plain": [
       "4211125"
      ]
     },
     "execution_count": 13,
     "metadata": {},
     "output_type": "execute_result"
    }
   ],
   "source": [
    "normal_recipient = df['nameDest'].str.startswith('C') \n",
    "normal_recipient.sum()"
   ]
  },
  {
   "cell_type": "code",
   "execution_count": 14,
   "id": "f413efc2",
   "metadata": {},
   "outputs": [
    {
     "data": {
      "text/plain": [
       "2151495"
      ]
     },
     "execution_count": 14,
     "metadata": {},
     "output_type": "execute_result"
    }
   ],
   "source": [
    "merchant_recipient = df['nameDest'].str.startswith('M')\n",
    "merchant_recipient.sum()"
   ]
  },
  {
   "cell_type": "code",
   "execution_count": 15,
   "id": "cca9299b",
   "metadata": {},
   "outputs": [
    {
     "name": "stdout",
     "output_type": "stream",
     "text": [
      "6362620\n",
      "(6362620, 11)\n"
     ]
    }
   ],
   "source": [
    "print(normal_recipient.sum() + merchant_recipient.sum())\n",
    "print(df.shape)"
   ]
  },
  {
   "cell_type": "code",
   "execution_count": 16,
   "id": "66d87260",
   "metadata": {},
   "outputs": [
    {
     "data": {
      "image/png": "[encoded data removed]",
      "text/plain": [
       "<Figure size 640x480 with 1 Axes>"
      ]
     },
     "metadata": {},
     "output_type": "display_data"
    },
    {
     "name": "stdout",
     "output_type": "stream",
     "text": [
      "None\n"
     ]
    }
   ],
   "source": [
    "plt.pie(normal_recipient.value_counts(), labels = {\"Normal Recipients\": 1, \"Merchants\":0}.keys(),autopct='%.2f%%')\n",
    "print(plt.show())"
   ]
  },
  {
   "cell_type": "markdown",
   "id": "d07b75b7",
   "metadata": {},
   "source": [
    "<b> The nameDest column has no anomalies. Transactions are made either to merchants or Normal recipients </b>"
   ]
  },
  {
   "cell_type": "code",
   "execution_count": 17,
   "id": "7a66bae8",
   "metadata": {},
   "outputs": [
    {
     "data": {
      "text/plain": [
       "isFraud\n",
       "0    6354407\n",
       "1       8213\n",
       "Name: count, dtype: int64"
      ]
     },
     "execution_count": 17,
     "metadata": {},
     "output_type": "execute_result"
    }
   ],
   "source": [
    "fraud_count = df['isFraud'].value_counts()\n",
    "fraud_count"
   ]
  },
  {
   "cell_type": "code",
   "execution_count": 18,
   "id": "d1941242",
   "metadata": {},
   "outputs": [
    {
     "data": {
      "text/plain": [
       "([<matplotlib.patches.Wedge at 0x2900806ee10>,\n",
       "  <matplotlib.patches.Wedge at 0x290080a5210>],\n",
       " [Text(-1.099990955625572, 0.004460666087110192, 'Safe transaction'),\n",
       "  Text(1.0999909559371663, -0.004460589247970448, 'Fraud Transaction')],\n",
       " [Text(-0.5999950667048575, 0.002433090592969195, '99.87%'),\n",
       "  Text(0.599995066874818, -0.002433048680711153, '0.13%')])"
      ]
     },
     "execution_count": 18,
     "metadata": {},
     "output_type": "execute_result"
    },
    {
     "data": {
      "image/png": "[encoded data removed]",
      "text/plain": [
       "<Figure size 640x480 with 1 Axes>"
      ]
     },
     "metadata": {},
     "output_type": "display_data"
    }
   ],
   "source": [
    "plt.pie(fraud_count, labels = {\"Safe transaction\":0, \"Fraud Transaction\":1}.keys(), autopct = '%1.2f%%')"
   ]
  },
  {
   "cell_type": "markdown",
   "id": "947d3bf6",
   "metadata": {},
   "source": [
    "<h3> Bi-Variate Analysis </h3>"
   ]
  },
  {
   "cell_type": "code",
   "execution_count": 19,
   "id": "08126951",
   "metadata": {
    "scrolled": true
   },
   "outputs": [
    {
     "data": {
      "text/html": [
       "<div>\n",
       "<style scoped>\n",
       "    .dataframe tbody tr th:only-of-type {\n",
       "        vertical-align: middle;\n",
       "    }\n",
       "\n",
       "    .dataframe tbody tr th {\n",
       "        vertical-align: top;\n",
       "    }\n",
       "\n",
       "    .dataframe thead th {\n",
       "        text-align: right;\n",
       "    }\n",
       "</style>\n",
       "<table border=\"1\" class=\"dataframe\">\n",
       "  <thead>\n",
       "    <tr style=\"text-align: right;\">\n",
       "      <th></th>\n",
       "      <th>step</th>\n",
       "      <th>amount</th>\n",
       "      <th>oldbalanceOrg</th>\n",
       "      <th>newbalanceOrig</th>\n",
       "      <th>oldbalanceDest</th>\n",
       "      <th>newbalanceDest</th>\n",
       "      <th>isFraud</th>\n",
       "      <th>isFlaggedFraud</th>\n",
       "    </tr>\n",
       "  </thead>\n",
       "  <tbody>\n",
       "    <tr>\n",
       "      <th>step</th>\n",
       "      <td>1.00</td>\n",
       "      <td>0.02</td>\n",
       "      <td>-0.01</td>\n",
       "      <td>-0.01</td>\n",
       "      <td>0.03</td>\n",
       "      <td>0.03</td>\n",
       "      <td>0.03</td>\n",
       "      <td>0.00</td>\n",
       "    </tr>\n",
       "    <tr>\n",
       "      <th>amount</th>\n",
       "      <td>0.02</td>\n",
       "      <td>1.00</td>\n",
       "      <td>-0.00</td>\n",
       "      <td>-0.01</td>\n",
       "      <td>0.29</td>\n",
       "      <td>0.46</td>\n",
       "      <td>0.08</td>\n",
       "      <td>0.01</td>\n",
       "    </tr>\n",
       "    <tr>\n",
       "      <th>oldbalanceOrg</th>\n",
       "      <td>-0.01</td>\n",
       "      <td>-0.00</td>\n",
       "      <td>1.00</td>\n",
       "      <td>1.00</td>\n",
       "      <td>0.07</td>\n",
       "      <td>0.04</td>\n",
       "      <td>0.01</td>\n",
       "      <td>0.00</td>\n",
       "    </tr>\n",
       "    <tr>\n",
       "      <th>newbalanceOrig</th>\n",
       "      <td>-0.01</td>\n",
       "      <td>-0.01</td>\n",
       "      <td>1.00</td>\n",
       "      <td>1.00</td>\n",
       "      <td>0.07</td>\n",
       "      <td>0.04</td>\n",
       "      <td>-0.01</td>\n",
       "      <td>0.00</td>\n",
       "    </tr>\n",
       "    <tr>\n",
       "      <th>oldbalanceDest</th>\n",
       "      <td>0.03</td>\n",
       "      <td>0.29</td>\n",
       "      <td>0.07</td>\n",
       "      <td>0.07</td>\n",
       "      <td>1.00</td>\n",
       "      <td>0.98</td>\n",
       "      <td>-0.01</td>\n",
       "      <td>-0.00</td>\n",
       "    </tr>\n",
       "    <tr>\n",
       "      <th>newbalanceDest</th>\n",
       "      <td>0.03</td>\n",
       "      <td>0.46</td>\n",
       "      <td>0.04</td>\n",
       "      <td>0.04</td>\n",
       "      <td>0.98</td>\n",
       "      <td>1.00</td>\n",
       "      <td>0.00</td>\n",
       "      <td>-0.00</td>\n",
       "    </tr>\n",
       "    <tr>\n",
       "      <th>isFraud</th>\n",
       "      <td>0.03</td>\n",
       "      <td>0.08</td>\n",
       "      <td>0.01</td>\n",
       "      <td>-0.01</td>\n",
       "      <td>-0.01</td>\n",
       "      <td>0.00</td>\n",
       "      <td>1.00</td>\n",
       "      <td>0.04</td>\n",
       "    </tr>\n",
       "    <tr>\n",
       "      <th>isFlaggedFraud</th>\n",
       "      <td>0.00</td>\n",
       "      <td>0.01</td>\n",
       "      <td>0.00</td>\n",
       "      <td>0.00</td>\n",
       "      <td>-0.00</td>\n",
       "      <td>-0.00</td>\n",
       "      <td>0.04</td>\n",
       "      <td>1.00</td>\n",
       "    </tr>\n",
       "  </tbody>\n",
       "</table>\n",
       "</div>"
      ],
      "text/plain": [
       "                step  amount  oldbalanceOrg  newbalanceOrig  oldbalanceDest  \\\n",
       "step            1.00    0.02          -0.01           -0.01            0.03   \n",
       "amount          0.02    1.00          -0.00           -0.01            0.29   \n",
       "oldbalanceOrg  -0.01   -0.00           1.00            1.00            0.07   \n",
       "newbalanceOrig -0.01   -0.01           1.00            1.00            0.07   \n",
       "oldbalanceDest  0.03    0.29           0.07            0.07            1.00   \n",
       "newbalanceDest  0.03    0.46           0.04            0.04            0.98   \n",
       "isFraud         0.03    0.08           0.01           -0.01           -0.01   \n",
       "isFlaggedFraud  0.00    0.01           0.00            0.00           -0.00   \n",
       "\n",
       "                newbalanceDest  isFraud  isFlaggedFraud  \n",
       "step                      0.03     0.03            0.00  \n",
       "amount                    0.46     0.08            0.01  \n",
       "oldbalanceOrg             0.04     0.01            0.00  \n",
       "newbalanceOrig            0.04    -0.01            0.00  \n",
       "oldbalanceDest            0.98    -0.01           -0.00  \n",
       "newbalanceDest            1.00     0.00           -0.00  \n",
       "isFraud                   0.00     1.00            0.04  \n",
       "isFlaggedFraud           -0.00     0.04            1.00  "
      ]
     },
     "execution_count": 19,
     "metadata": {},
     "output_type": "execute_result"
    }
   ],
   "source": [
    "numeric_df = df.select_dtypes(include=[np.number])\n",
    "numeric_df.corr()"
   ]
  },
  {
   "cell_type": "code",
   "execution_count": 20,
   "id": "7a7acc6b",
   "metadata": {},
   "outputs": [
    {
     "data": {
      "text/plain": [
       "<Axes: >"
      ]
     },
     "execution_count": 20,
     "metadata": {},
     "output_type": "execute_result"
    },
    {
     "data": {
      "image/png": "[encoded data removed]",
      "text/plain": [
       "<Figure size 1000x1000 with 2 Axes>"
      ]
     },
     "metadata": {},
     "output_type": "display_data"
    }
   ],
   "source": [
    "plt.figure(figsize=(10,10))\n",
    "sns.heatmap(numeric_df.corr(),annot = True)"
   ]
  },
  {
   "cell_type": "markdown",
   "id": "abf015e4",
   "metadata": {},
   "source": [
    "<b style=\"color: orange;\">Order of correlated metrics:</b><br>\n",
    "<b style=\"color: orange;\">newbalanceOrig < oldbalanceDest < oldbalanceOrg < newbalanceDest < step < isFlaggedFraud < amount</b>"
   ]
  },
  {
   "cell_type": "markdown",
   "id": "cad97fad",
   "metadata": {},
   "source": [
    "<h3> Converting categorical variables into Numeric type </h3>"
   ]
  },
  {
   "cell_type": "code",
   "execution_count": 21,
   "id": "8ccb4bf2",
   "metadata": {},
   "outputs": [],
   "source": [
    "le_type = LabelEncoder()\n",
    "le_orig = LabelEncoder()\n",
    "le_dest = LabelEncoder()\n",
    "\n",
    "# Fit and transform the 'type' column\n",
    "df['type'] = le_type.fit_transform(df['type'])\n",
    "\n",
    "# Fit and transform the 'nameOrig' column\n",
    "df['nameOrig'] = le_orig.fit_transform(df['nameOrig'])\n",
    "\n",
    "# Fit and transform the 'nameDest' column\n",
    "df['nameDest'] = le_dest.fit_transform(df['nameDest'])"
   ]
  },
  {
   "cell_type": "code",
   "execution_count": 22,
   "id": "7aa6a9e0",
   "metadata": {
    "scrolled": true
   },
   "outputs": [
    {
     "data": {
      "text/plain": [
       "array(['CASH_IN', 'CASH_OUT', 'DEBIT', 'PAYMENT', 'TRANSFER'],\n",
       "      dtype=object)"
      ]
     },
     "execution_count": 22,
     "metadata": {},
     "output_type": "execute_result"
    }
   ],
   "source": [
    "le_type.classes_"
   ]
  },
  {
   "cell_type": "code",
   "execution_count": 23,
   "id": "49c33b38",
   "metadata": {},
   "outputs": [
    {
     "data": {
      "text/plain": [
       "array(['C1000000639', 'C1000001337', 'C1000001725', ..., 'C999999254',\n",
       "       'C999999614', 'C999999784'], dtype=object)"
      ]
     },
     "execution_count": 23,
     "metadata": {},
     "output_type": "execute_result"
    }
   ],
   "source": [
    "le_orig.classes_"
   ]
  },
  {
   "cell_type": "code",
   "execution_count": 24,
   "id": "a8d784b0",
   "metadata": {},
   "outputs": [
    {
     "data": {
      "text/plain": [
       "array(['C1000004082', 'C1000004940', 'C1000013769', ..., 'M999999089',\n",
       "       'M999999543', 'M999999784'], dtype=object)"
      ]
     },
     "execution_count": 24,
     "metadata": {},
     "output_type": "execute_result"
    }
   ],
   "source": [
    "le_dest.classes_"
   ]
  },
  {
   "cell_type": "code",
   "execution_count": 25,
   "id": "4e00b2ae",
   "metadata": {},
   "outputs": [
    {
     "data": {
      "text/html": [
       "<div>\n",
       "<style scoped>\n",
       "    .dataframe tbody tr th:only-of-type {\n",
       "        vertical-align: middle;\n",
       "    }\n",
       "\n",
       "    .dataframe tbody tr th {\n",
       "        vertical-align: top;\n",
       "    }\n",
       "\n",
       "    .dataframe thead th {\n",
       "        text-align: right;\n",
       "    }\n",
       "</style>\n",
       "<table border=\"1\" class=\"dataframe\">\n",
       "  <thead>\n",
       "    <tr style=\"text-align: right;\">\n",
       "      <th></th>\n",
       "      <th>step</th>\n",
       "      <th>type</th>\n",
       "      <th>amount</th>\n",
       "      <th>nameOrig</th>\n",
       "      <th>oldbalanceOrg</th>\n",
       "      <th>newbalanceOrig</th>\n",
       "      <th>nameDest</th>\n",
       "      <th>oldbalanceDest</th>\n",
       "      <th>newbalanceDest</th>\n",
       "      <th>isFraud</th>\n",
       "      <th>isFlaggedFraud</th>\n",
       "    </tr>\n",
       "  </thead>\n",
       "  <tbody>\n",
       "    <tr>\n",
       "      <th>829808</th>\n",
       "      <td>41</td>\n",
       "      <td>3</td>\n",
       "      <td>2147.53</td>\n",
       "      <td>3018933</td>\n",
       "      <td>0.00</td>\n",
       "      <td>0.00</td>\n",
       "      <td>1585866</td>\n",
       "      <td>0.00</td>\n",
       "      <td>0.00</td>\n",
       "      <td>0</td>\n",
       "      <td>0</td>\n",
       "    </tr>\n",
       "    <tr>\n",
       "      <th>2159409</th>\n",
       "      <td>184</td>\n",
       "      <td>4</td>\n",
       "      <td>435477.00</td>\n",
       "      <td>4351162</td>\n",
       "      <td>222.00</td>\n",
       "      <td>0.00</td>\n",
       "      <td>70941</td>\n",
       "      <td>0.00</td>\n",
       "      <td>435477.00</td>\n",
       "      <td>0</td>\n",
       "      <td>0</td>\n",
       "    </tr>\n",
       "    <tr>\n",
       "      <th>4439210</th>\n",
       "      <td>323</td>\n",
       "      <td>3</td>\n",
       "      <td>52105.48</td>\n",
       "      <td>6083934</td>\n",
       "      <td>11042.00</td>\n",
       "      <td>0.00</td>\n",
       "      <td>1173520</td>\n",
       "      <td>0.00</td>\n",
       "      <td>0.00</td>\n",
       "      <td>0</td>\n",
       "      <td>0</td>\n",
       "    </tr>\n",
       "    <tr>\n",
       "      <th>1507122</th>\n",
       "      <td>144</td>\n",
       "      <td>1</td>\n",
       "      <td>331003.56</td>\n",
       "      <td>1837806</td>\n",
       "      <td>0.00</td>\n",
       "      <td>0.00</td>\n",
       "      <td>382768</td>\n",
       "      <td>393796.84</td>\n",
       "      <td>724800.39</td>\n",
       "      <td>0</td>\n",
       "      <td>0</td>\n",
       "    </tr>\n",
       "    <tr>\n",
       "      <th>3824594</th>\n",
       "      <td>282</td>\n",
       "      <td>3</td>\n",
       "      <td>7459.12</td>\n",
       "      <td>5836996</td>\n",
       "      <td>0.00</td>\n",
       "      <td>0.00</td>\n",
       "      <td>1310987</td>\n",
       "      <td>0.00</td>\n",
       "      <td>0.00</td>\n",
       "      <td>0</td>\n",
       "      <td>0</td>\n",
       "    </tr>\n",
       "    <tr>\n",
       "      <th>4577008</th>\n",
       "      <td>328</td>\n",
       "      <td>3</td>\n",
       "      <td>36095.38</td>\n",
       "      <td>2407134</td>\n",
       "      <td>121545.00</td>\n",
       "      <td>85449.62</td>\n",
       "      <td>1752177</td>\n",
       "      <td>0.00</td>\n",
       "      <td>0.00</td>\n",
       "      <td>0</td>\n",
       "      <td>0</td>\n",
       "    </tr>\n",
       "    <tr>\n",
       "      <th>1701482</th>\n",
       "      <td>159</td>\n",
       "      <td>1</td>\n",
       "      <td>4702.57</td>\n",
       "      <td>202414</td>\n",
       "      <td>0.00</td>\n",
       "      <td>0.00</td>\n",
       "      <td>187354</td>\n",
       "      <td>233013.01</td>\n",
       "      <td>237715.58</td>\n",
       "      <td>0</td>\n",
       "      <td>0</td>\n",
       "    </tr>\n",
       "    <tr>\n",
       "      <th>3431894</th>\n",
       "      <td>256</td>\n",
       "      <td>0</td>\n",
       "      <td>268074.48</td>\n",
       "      <td>652938</td>\n",
       "      <td>103799.00</td>\n",
       "      <td>371873.48</td>\n",
       "      <td>514582</td>\n",
       "      <td>0.00</td>\n",
       "      <td>0.00</td>\n",
       "      <td>0</td>\n",
       "      <td>0</td>\n",
       "    </tr>\n",
       "    <tr>\n",
       "      <th>5430857</th>\n",
       "      <td>378</td>\n",
       "      <td>4</td>\n",
       "      <td>838775.40</td>\n",
       "      <td>2648373</td>\n",
       "      <td>0.00</td>\n",
       "      <td>0.00</td>\n",
       "      <td>457888</td>\n",
       "      <td>3054583.29</td>\n",
       "      <td>3893358.68</td>\n",
       "      <td>0</td>\n",
       "      <td>0</td>\n",
       "    </tr>\n",
       "    <tr>\n",
       "      <th>5140327</th>\n",
       "      <td>356</td>\n",
       "      <td>0</td>\n",
       "      <td>86711.26</td>\n",
       "      <td>663603</td>\n",
       "      <td>21467.00</td>\n",
       "      <td>108178.26</td>\n",
       "      <td>45036</td>\n",
       "      <td>984729.89</td>\n",
       "      <td>898018.63</td>\n",
       "      <td>0</td>\n",
       "      <td>0</td>\n",
       "    </tr>\n",
       "  </tbody>\n",
       "</table>\n",
       "</div>"
      ],
      "text/plain": [
       "         step  type    amount  nameOrig  oldbalanceOrg  newbalanceOrig  \\\n",
       "829808     41     3   2147.53   3018933           0.00            0.00   \n",
       "2159409   184     4 435477.00   4351162         222.00            0.00   \n",
       "4439210   323     3  52105.48   6083934       11042.00            0.00   \n",
       "1507122   144     1 331003.56   1837806           0.00            0.00   \n",
       "3824594   282     3   7459.12   5836996           0.00            0.00   \n",
       "4577008   328     3  36095.38   2407134      121545.00        85449.62   \n",
       "1701482   159     1   4702.57    202414           0.00            0.00   \n",
       "3431894   256     0 268074.48    652938      103799.00       371873.48   \n",
       "5430857   378     4 838775.40   2648373           0.00            0.00   \n",
       "5140327   356     0  86711.26    663603       21467.00       108178.26   \n",
       "\n",
       "         nameDest  oldbalanceDest  newbalanceDest  isFraud  isFlaggedFraud  \n",
       "829808    1585866            0.00            0.00        0               0  \n",
       "2159409     70941            0.00       435477.00        0               0  \n",
       "4439210   1173520            0.00            0.00        0               0  \n",
       "1507122    382768       393796.84       724800.39        0               0  \n",
       "3824594   1310987            0.00            0.00        0               0  \n",
       "4577008   1752177            0.00            0.00        0               0  \n",
       "1701482    187354       233013.01       237715.58        0               0  \n",
       "3431894    514582            0.00            0.00        0               0  \n",
       "5430857    457888      3054583.29      3893358.68        0               0  \n",
       "5140327     45036       984729.89       898018.63        0               0  "
      ]
     },
     "execution_count": 25,
     "metadata": {},
     "output_type": "execute_result"
    }
   ],
   "source": [
    "df.sample(10)"
   ]
  },
  {
   "cell_type": "markdown",
   "id": "62c36a3a",
   "metadata": {},
   "source": [
    "<h2> Splitting data into X and Y </h2>\n",
    "<h4 style = \"color:green;\">We are considering all the metrics.</h4>"
   ]
  },
  {
   "cell_type": "code",
   "execution_count": 26,
   "id": "77e31407",
   "metadata": {},
   "outputs": [],
   "source": [
    "x = df.drop(columns=['isFraud'])\n",
    "y = df['isFraud']"
   ]
  },
  {
   "cell_type": "markdown",
   "id": "1c7238ca",
   "metadata": {},
   "source": [
    "<h2> Scaling data </h2>"
   ]
  },
  {
   "cell_type": "code",
   "execution_count": 27,
   "id": "21cecbec",
   "metadata": {},
   "outputs": [],
   "source": [
    "scaler = MinMaxScaler()\n",
    "x = scaler.fit_transform(x)"
   ]
  },
  {
   "cell_type": "markdown",
   "id": "ca29d1c0",
   "metadata": {},
   "source": [
    "<br>\n",
    "<br>\n",
    "<h1 style=\"color:red;\">Method 1 - Logistic Regression - Holdout Technique </h1>\n",
    "<h3 style=\"color:green;\">Holdout Technique: Traning data - 80% , Testing Data - 20% </h3>\n",
    "--------------------------------------------------------------------------------------------------------------"
   ]
  },
  {
   "cell_type": "code",
   "execution_count": 28,
   "id": "1dd884e1",
   "metadata": {},
   "outputs": [],
   "source": [
    "x_train, x_test, y_train, y_test = train_test_split(x,y,test_size=0.20,random_state=0)"
   ]
  },
  {
   "cell_type": "markdown",
   "id": "40107f93",
   "metadata": {},
   "source": [
    "<h4>Apply Logistic Regression</h4>"
   ]
  },
  {
   "cell_type": "code",
   "execution_count": 29,
   "id": "b75bf858",
   "metadata": {},
   "outputs": [],
   "source": [
    "log_reg = LogisticRegression()\n",
    "log_reg.fit(x_train,y_train)\n",
    "y_pred_log_reg = log_reg.predict(x_test)"
   ]
  },
  {
   "cell_type": "markdown",
   "id": "702ce149",
   "metadata": {},
   "source": [
    "<h4>Check Performance of the model</h4>"
   ]
  },
  {
   "cell_type": "code",
   "execution_count": 30,
   "id": "ba18243b",
   "metadata": {},
   "outputs": [
    {
     "name": "stdout",
     "output_type": "stream",
     "text": [
      "[[1270882       1]\n",
      " [   1491     150]]\n",
      "0.9988275270250305\n",
      "              precision    recall  f1-score   support\n",
      "\n",
      "           0       1.00      1.00      1.00   1270883\n",
      "           1       0.99      0.09      0.17      1641\n",
      "\n",
      "    accuracy                           1.00   1272524\n",
      "   macro avg       1.00      0.55      0.58   1272524\n",
      "weighted avg       1.00      1.00      1.00   1272524\n",
      "\n",
      "None\n"
     ]
    }
   ],
   "source": [
    "print(confusion_matrix(y_test,y_pred_log_reg))\n",
    "print(accuracy_score(y_test,y_pred_log_reg))\n",
    "print(print(classification_report(y_test,y_pred_log_reg)))"
   ]
  },
  {
   "cell_type": "markdown",
   "id": "85d793cb",
   "metadata": {},
   "source": [
    "<h3 style=\"color:green;\">Holdout Technique: Traning data - 70% , Testing Data - 30% </h3>\n",
    "----------------------------------------------------------------------------------------------------------------"
   ]
  },
  {
   "cell_type": "markdown",
   "id": "556f62ae",
   "metadata": {},
   "source": [
    "<h4> Applying Logistic Regression </h4>"
   ]
  },
  {
   "cell_type": "code",
   "execution_count": 31,
   "id": "ea419e9d",
   "metadata": {},
   "outputs": [],
   "source": [
    "x_train2, x_test2, y_train2, y_test2 = train_test_split(x,y,test_size=0.30,random_state=0)\n",
    "log_reg2 = LogisticRegression()\n",
    "log_reg2.fit(x_train2,y_train2)\n",
    "y_pred2_log_reg = log_reg2.predict(x_test2)"
   ]
  },
  {
   "cell_type": "markdown",
   "id": "1a8aa239",
   "metadata": {},
   "source": [
    "<h4>Check Performance of the model</h4>"
   ]
  },
  {
   "cell_type": "code",
   "execution_count": 32,
   "id": "b6ab7c7b",
   "metadata": {},
   "outputs": [
    {
     "name": "stdout",
     "output_type": "stream",
     "text": [
      "[[1906364       3]\n",
      " [   2217     202]]\n",
      "0.9988369571025772\n",
      "              precision    recall  f1-score   support\n",
      "\n",
      "           0       1.00      1.00      1.00   1906367\n",
      "           1       0.99      0.08      0.15      2419\n",
      "\n",
      "    accuracy                           1.00   1908786\n",
      "   macro avg       0.99      0.54      0.58   1908786\n",
      "weighted avg       1.00      1.00      1.00   1908786\n",
      "\n"
     ]
    }
   ],
   "source": [
    "print(confusion_matrix(y_test2,y_pred2_log_reg))\n",
    "print(accuracy_score(y_test2,y_pred2_log_reg))\n",
    "print(classification_report(y_test2,y_pred2_log_reg))"
   ]
  },
  {
   "cell_type": "markdown",
   "id": "b7384268",
   "metadata": {},
   "source": [
    "<h3 style=\"color:green;\">Holdout Technique: Traning data - 60% , Testing Data - 40% </h3>\n",
    "----------------------------------------------------------------------------------------------------------------"
   ]
  },
  {
   "cell_type": "markdown",
   "id": "c7068b22",
   "metadata": {},
   "source": [
    "<h4> Applying Logistic Regression </h4>"
   ]
  },
  {
   "cell_type": "code",
   "execution_count": 33,
   "id": "0ee1d479",
   "metadata": {},
   "outputs": [],
   "source": [
    "x_train3, x_test3, y_train3, y_test3 = train_test_split(x,y,test_size=0.40,random_state=0)\n",
    "log_reg3 = LogisticRegression()\n",
    "log_reg3.fit(x_train3,y_train3)\n",
    "y_pred3_log_reg = log_reg3.predict(x_test3)"
   ]
  },
  {
   "cell_type": "markdown",
   "id": "3d2224f5",
   "metadata": {},
   "source": [
    "<h4>Check Performance of the model</h4>"
   ]
  },
  {
   "cell_type": "code",
   "execution_count": 34,
   "id": "69625f1b",
   "metadata": {
    "scrolled": false
   },
   "outputs": [
    {
     "name": "stdout",
     "output_type": "stream",
     "text": [
      "[[2541798       3]\n",
      " [   3011     236]]\n",
      "0.9988157394280972\n",
      "              precision    recall  f1-score   support\n",
      "\n",
      "           0       1.00      1.00      1.00   2541801\n",
      "           1       0.99      0.07      0.14      3247\n",
      "\n",
      "    accuracy                           1.00   2545048\n",
      "   macro avg       0.99      0.54      0.57   2545048\n",
      "weighted avg       1.00      1.00      1.00   2545048\n",
      "\n"
     ]
    }
   ],
   "source": [
    "print(confusion_matrix(y_test3,y_pred3_log_reg))\n",
    "print(accuracy_score(y_test3,y_pred3_log_reg))\n",
    "print(classification_report(y_test3,y_pred3_log_reg))"
   ]
  },
  {
   "cell_type": "markdown",
   "id": "5de600b5",
   "metadata": {},
   "source": [
    "<br>\n",
    "<br>\n",
    "<h1 style=\"color:red;\">Method 2 - Logistic Regression - Cross Validation Technique</h1>"
   ]
  },
  {
   "cell_type": "markdown",
   "id": "d6ed69d5",
   "metadata": {},
   "source": [
    "<h5 style=\"color:green;\">3-Fold</h5>"
   ]
  },
  {
   "cell_type": "code",
   "execution_count": 35,
   "id": "ba58ee26",
   "metadata": {},
   "outputs": [
    {
     "name": "stdout",
     "output_type": "stream",
     "text": [
      "[0.99873213 0.99880379 0.99786267]\n",
      "0.9984661978452385\n"
     ]
    }
   ],
   "source": [
    "cvs_3 = cross_val_score(log_reg,x,y,cv=3)\n",
    "print(cvs_3)\n",
    "print(cvs_3.mean())"
   ]
  },
  {
   "cell_type": "markdown",
   "id": "3f66cf5e",
   "metadata": {},
   "source": [
    "<h5 style=\"color:green;\">4-Fold</h5>"
   ]
  },
  {
   "cell_type": "code",
   "execution_count": 36,
   "id": "1b8859fe",
   "metadata": {},
   "outputs": [
    {
     "name": "stdout",
     "output_type": "stream",
     "text": [
      "[0.9987414  0.99879421 0.99879987 0.99782165]\n",
      "0.9985392809880206\n"
     ]
    }
   ],
   "source": [
    "cvs_4 = cross_val_score(log_reg,x,y,cv=4)\n",
    "print(cvs_4)\n",
    "print(cvs_4.mean())"
   ]
  },
  {
   "cell_type": "markdown",
   "id": "6df47277",
   "metadata": {},
   "source": [
    "<h5 style=\"color:green;\">5-Fold</h5>"
   ]
  },
  {
   "cell_type": "code",
   "execution_count": 37,
   "id": "109489fb",
   "metadata": {},
   "outputs": [
    {
     "name": "stdout",
     "output_type": "stream",
     "text": [
      "[0.99874344 0.99878352 0.9988291  0.99880317 0.99819178]\n",
      "0.9986702018979603\n"
     ]
    }
   ],
   "source": [
    "cvs_5 = cross_val_score(log_reg,x,y,cv=5)\n",
    "print(cvs_5)\n",
    "print(cvs_5.mean())"
   ]
  },
  {
   "cell_type": "markdown",
   "id": "a066186d",
   "metadata": {},
   "source": [
    "<h5 style=\"color:green;\">10-Fold</h5>"
   ]
  },
  {
   "cell_type": "code",
   "execution_count": 38,
   "id": "4ea81517",
   "metadata": {},
   "outputs": [
    {
     "name": "stdout",
     "output_type": "stream",
     "text": [
      "[0.99874108 0.9987788  0.99878981 0.99879924 0.9988291  0.99884482\n",
      " 0.99884796 0.99878981 0.99884953 0.99898784]\n",
      "0.9988257981774803\n"
     ]
    }
   ],
   "source": [
    "cvs_10 = cross_val_score(log_reg,x,y,cv=10)\n",
    "print(cvs_10)\n",
    "print(cvs_10.mean())"
   ]
  },
  {
   "cell_type": "markdown",
   "id": "d4b7ee30",
   "metadata": {},
   "source": [
    "<h1 style=\"color:red;\">Method 3 - Decision Tree - Holdout Technique</h1>\n",
    "\n",
    "<h3 style=\"color:green;\">Holdout Technique: Traning data - 80% , Testing Data - 20% </h3>\n",
    "--------------------------------------------------------------------------------------------------------------"
   ]
  },
  {
   "cell_type": "markdown",
   "id": "43135430",
   "metadata": {},
   "source": [
    "<h4> Applying Decision Tree </h4>"
   ]
  },
  {
   "cell_type": "code",
   "execution_count": 39,
   "id": "f4fa29a3",
   "metadata": {},
   "outputs": [],
   "source": [
    "dec_tree = DecisionTreeClassifier()\n",
    "dec_tree.fit(x_train, y_train)\n",
    "\n",
    "# Predictions using Decision Tree\n",
    "y_pred_dec_tree = dec_tree.predict(x_test)\n"
   ]
  },
  {
   "cell_type": "markdown",
   "id": "659f20d0",
   "metadata": {},
   "source": [
    "<h4> Check performance of the model </h4>"
   ]
  },
  {
   "cell_type": "code",
   "execution_count": 40,
   "id": "e7aafdd9",
   "metadata": {},
   "outputs": [
    {
     "name": "stdout",
     "output_type": "stream",
     "text": [
      "\n",
      "Decision Tree Performance:\n",
      "Confusion Matrix:\n",
      " [[1270669     214]\n",
      " [    221    1420]]\n",
      "Accuracy Score: 0.9996581596889331\n",
      "Classification Report:\n",
      "               precision    recall  f1-score   support\n",
      "\n",
      "           0       1.00      1.00      1.00   1270883\n",
      "           1       0.87      0.87      0.87      1641\n",
      "\n",
      "    accuracy                           1.00   1272524\n",
      "   macro avg       0.93      0.93      0.93   1272524\n",
      "weighted avg       1.00      1.00      1.00   1272524\n",
      "\n"
     ]
    }
   ],
   "source": [
    "print(\"\\nDecision Tree Performance:\")\n",
    "print(\"Confusion Matrix:\\n\", confusion_matrix(y_test, y_pred_dec_tree))\n",
    "print(\"Accuracy Score:\", accuracy_score(y_test, y_pred_dec_tree))\n",
    "print(\"Classification Report:\\n\", classification_report(y_test, y_pred_dec_tree))"
   ]
  },
  {
   "cell_type": "markdown",
   "id": "27706c00",
   "metadata": {},
   "source": [
    "<h3 style=\"color:green;\">Holdout Technique: Traning data - 70% , Testing Data - 30% </h3>\n",
    "--------------------------------------------------------------------------------------------------------------"
   ]
  },
  {
   "cell_type": "markdown",
   "id": "192eb04e",
   "metadata": {},
   "source": [
    "<h4> Applying Decision Tree </h4>"
   ]
  },
  {
   "cell_type": "code",
   "execution_count": 41,
   "id": "be3dcfd8",
   "metadata": {},
   "outputs": [],
   "source": [
    "dec_tree2 = DecisionTreeClassifier()\n",
    "dec_tree2.fit(x_train2, y_train2)\n",
    "\n",
    "y_pred2_dec_tree = dec_tree2.predict(x_test2)"
   ]
  },
  {
   "cell_type": "markdown",
   "id": "689f5bb5",
   "metadata": {},
   "source": [
    "<h4> Check performance of the model </h4>"
   ]
  },
  {
   "cell_type": "code",
   "execution_count": 42,
   "id": "a2c6def8",
   "metadata": {},
   "outputs": [
    {
     "name": "stdout",
     "output_type": "stream",
     "text": [
      "\n",
      "Decision Tree Performance:\n",
      "Confusion Matrix:\n",
      " [[1906031     336]\n",
      " [    330    2089]]\n",
      "Accuracy Score: 0.9996510871307732\n",
      "Classification Report:\n",
      "               precision    recall  f1-score   support\n",
      "\n",
      "           0       1.00      1.00      1.00   1906367\n",
      "           1       0.86      0.86      0.86      2419\n",
      "\n",
      "    accuracy                           1.00   1908786\n",
      "   macro avg       0.93      0.93      0.93   1908786\n",
      "weighted avg       1.00      1.00      1.00   1908786\n",
      "\n"
     ]
    }
   ],
   "source": [
    "print(\"\\nDecision Tree Performance:\")\n",
    "print(\"Confusion Matrix:\\n\", confusion_matrix(y_test2, y_pred2_dec_tree))\n",
    "print(\"Accuracy Score:\", accuracy_score(y_test2, y_pred2_dec_tree))\n",
    "print(\"Classification Report:\\n\", classification_report(y_test2, y_pred2_dec_tree))"
   ]
  },
  {
   "cell_type": "markdown",
   "id": "25a02d29",
   "metadata": {},
   "source": [
    "<h3 style=\"color:green;\">Holdout Technique: Traning data - 60% , Testing Data - 40% </h3>\n",
    "--------------------------------------------------------------------------------------------------------------"
   ]
  },
  {
   "cell_type": "markdown",
   "id": "ba3102cf",
   "metadata": {},
   "source": [
    "<h4> Applying Decision Tree </h4>"
   ]
  },
  {
   "cell_type": "code",
   "execution_count": 43,
   "id": "e4df3cc4",
   "metadata": {},
   "outputs": [],
   "source": [
    "dec_tree3 = DecisionTreeClassifier()\n",
    "dec_tree3.fit(x_train3, y_train3)\n",
    "\n",
    "y_pred3_dec_tree = dec_tree3.predict(x_test3)"
   ]
  },
  {
   "cell_type": "markdown",
   "id": "c6f9418c",
   "metadata": {},
   "source": [
    "<h4> Check performance of the model </h4>"
   ]
  },
  {
   "cell_type": "code",
   "execution_count": 44,
   "id": "aa6e4fed",
   "metadata": {},
   "outputs": [
    {
     "name": "stdout",
     "output_type": "stream",
     "text": [
      "\n",
      "Decision Tree Performance:\n",
      "Confusion Matrix:\n",
      " [[2541315     486]\n",
      " [    458    2789]]\n",
      "Accuracy Score: 0.9996290836164976\n",
      "Classification Report:\n",
      "               precision    recall  f1-score   support\n",
      "\n",
      "           0       1.00      1.00      1.00   2541801\n",
      "           1       0.85      0.86      0.86      3247\n",
      "\n",
      "    accuracy                           1.00   2545048\n",
      "   macro avg       0.93      0.93      0.93   2545048\n",
      "weighted avg       1.00      1.00      1.00   2545048\n",
      "\n"
     ]
    }
   ],
   "source": [
    "print(\"\\nDecision Tree Performance:\")\n",
    "print(\"Confusion Matrix:\\n\", confusion_matrix(y_test3, y_pred3_dec_tree))\n",
    "print(\"Accuracy Score:\", accuracy_score(y_test3, y_pred3_dec_tree))\n",
    "print(\"Classification Report:\\n\", classification_report(y_test3, y_pred3_dec_tree))"
   ]
  },
  {
   "cell_type": "markdown",
   "id": "3c1548fe",
   "metadata": {},
   "source": [
    "<h1>Fraud Detection With Selected Metrics </h1>"
   ]
  },
  {
   "cell_type": "markdown",
   "id": "9f435bbd",
   "metadata": {},
   "source": [
    "<b style=\"color: orange;\">Order of correlated metrics:</b><br>\n",
    "<b style=\"color: orange;\">newbalanceOrig < oldbalanceDest < oldbalanceOrg < newbalanceDest < step < isFlaggedFraud < amount</b>"
   ]
  },
  {
   "cell_type": "markdown",
   "id": "0d53edf1",
   "metadata": {},
   "source": [
    "<h2> Splitting data into X and Y </h2>\n",
    "<h4 style = \"color:green;\">We are Removing Least Correlated metric</h4>"
   ]
  },
  {
   "cell_type": "code",
   "execution_count": 45,
   "id": "9ea9f155",
   "metadata": {},
   "outputs": [],
   "source": [
    "x = df.drop(columns=['isFraud', 'newbalanceOrig'])\n",
    "y = df['isFraud']"
   ]
  },
  {
   "cell_type": "code",
   "execution_count": 46,
   "id": "c7a07d94",
   "metadata": {},
   "outputs": [],
   "source": [
    "scaler = MinMaxScaler()\n",
    "x = scaler.fit_transform(x)"
   ]
  },
  {
   "cell_type": "code",
   "execution_count": 47,
   "id": "282572f7",
   "metadata": {},
   "outputs": [],
   "source": [
    "x_train, x_test, y_train, y_test = train_test_split(x,y,test_size=0.20,random_state=0)"
   ]
  },
  {
   "cell_type": "code",
   "execution_count": 48,
   "id": "73c808d3",
   "metadata": {},
   "outputs": [],
   "source": [
    "log_reg = LogisticRegression()\n",
    "log_reg.fit(x_train,y_train)\n",
    "y_pred_log_reg = log_reg.predict(x_test)"
   ]
  },
  {
   "cell_type": "code",
   "execution_count": 49,
   "id": "62fade4d",
   "metadata": {},
   "outputs": [
    {
     "name": "stdout",
     "output_type": "stream",
     "text": [
      "[[1270879       4]\n",
      " [   1617      24]]\n",
      "0.9987261536914038\n",
      "              precision    recall  f1-score   support\n",
      "\n",
      "           0       1.00      1.00      1.00   1270883\n",
      "           1       0.86      0.01      0.03      1641\n",
      "\n",
      "    accuracy                           1.00   1272524\n",
      "   macro avg       0.93      0.51      0.51   1272524\n",
      "weighted avg       1.00      1.00      1.00   1272524\n",
      "\n",
      "None\n"
     ]
    }
   ],
   "source": [
    "print(confusion_matrix(y_test,y_pred_log_reg))\n",
    "print(accuracy_score(y_test,y_pred_log_reg))\n",
    "print(print(classification_report(y_test,y_pred_log_reg)))"
   ]
  },
  {
   "cell_type": "markdown",
   "id": "2bbfb8b8",
   "metadata": {},
   "source": [
    " <h3 style=\"color: red;\">It is better if we consider all the metrics because , if we are removing the leastly correlated metric the accuracy of the model is decreasing and false negative cases are increasing.\n",
    "    \n",
    "so for better accuracy and decreasing the false negatives cases we should consider all the metrics</h3>\n",
    "\n",
    "<h1>----------------------------------------------------------------------------------------------------------</h1>"
   ]
  },
  {
   "cell_type": "markdown",
   "id": "0a863046",
   "metadata": {},
   "source": [
    "# Fraud Detection Models Comparison\n",
    "\n",
    "## Method 1: Logistic Regression - Holdout Technique\n",
    "\n",
    "### 80% Training, 20% Testing\n",
    "| Metric                    | Value  |\n",
    "|---------------------------|--------|\n",
    "| Accuracy                  | 0.9988 |\n",
    "| Recall for fraud (class 1)| 0.09   |\n",
    "\n",
    "### 70% Training, 30% Testing\n",
    "| Metric                    | Value  |\n",
    "|---------------------------|--------|\n",
    "| Accuracy                  | 0.9988 |\n",
    "| Recall for fraud (class 1)| 0.08   |\n",
    "\n",
    "### 60% Training, 40% Testing\n",
    "| Metric                    | Value  |\n",
    "|---------------------------|--------|\n",
    "| Accuracy                  | 0.9988 |\n",
    "| Recall for fraud (class 1)| 0.07   |\n",
    "\n",
    "## Method 2: Logistic Regression - Cross Validation Technique\n",
    "\n",
    "### 3-Fold Cross-Validation\n",
    "| Fold  | Accuracy    |\n",
    "|-------|-------------|\n",
    "| Fold 1| 0.99873213  |\n",
    "| Fold 2| 0.99880379  |\n",
    "| Fold 3| 0.99786267  |\n",
    "| **Mean Accuracy** | **0.9984661978452385** |\n",
    "\n",
    "### 4-Fold Cross-Validation\n",
    "| Fold  | Accuracy    |\n",
    "|-------|-------------|\n",
    "| Fold 1| 0.9987414   |\n",
    "| Fold 2| 0.99879421  |\n",
    "| Fold 3| 0.99879987  |\n",
    "| Fold 4| 0.99782165  |\n",
    "| **Mean Accuracy** | **0.9985392809880206** |\n",
    "\n",
    "### 5-Fold Cross-Validation\n",
    "| Fold  | Accuracy    |\n",
    "|-------|-------------|\n",
    "| Fold 1| 0.99874344  |\n",
    "| Fold 2| 0.99878352  |\n",
    "| Fold 3| 0.9988291   |\n",
    "| Fold 4| 0.99880317  |\n",
    "| Fold 5| 0.99819178  |\n",
    "| **Mean Accuracy** | **0.9986702018979603** |\n",
    "\n",
    "### 10-Fold Cross-Validation\n",
    "| Fold  | Accuracy    |\n",
    "|-------|-------------|\n",
    "| Fold 1| 0.99874108  |\n",
    "| Fold 2| 0.9987788   |\n",
    "| Fold 3| 0.99878981  |\n",
    "| Fold 4| 0.99879924  |\n",
    "| Fold 5| 0.9988291   |\n",
    "| Fold 6| 0.99884482  |\n",
    "| Fold 7| 0.99884796  |\n",
    "| Fold 8| 0.99878981  |\n",
    "| Fold 9| 0.99884953  |\n",
    "| Fold 10| 0.99898784 |\n",
    "| **Mean Accuracy** | **0.9988257981774803** |\n",
    "\n",
    "## Method 3: Decision Tree - Holdout Technique\n",
    "\n",
    "### 80% Training, 20% Testing\n",
    "| Metric                    | Value  |\n",
    "|---------------------------|--------|\n",
    "| Accuracy                  | 0.9997 |\n",
    "| Recall for fraud (class 1)| 0.86   |\n",
    "\n",
    "### 70% Training, 30% Testing\n",
    "| Metric                    | Value  |\n",
    "|---------------------------|--------|\n",
    "| Accuracy                  | 0.9996 |\n",
    "| Recall for fraud (class 1)| 0.86   |\n",
    "\n",
    "### 60% Training, 40% Testing\n",
    "| Metric                    | Value  |\n",
    "|---------------------------|--------|\n",
    "| Accuracy                  | 0.9996 |\n",
    "| Recall for fraud (class 1)| 0.86   |\n",
    "\n"
   ]
  },
  {
   "cell_type": "markdown",
   "id": "cb7d02f2",
   "metadata": {},
   "source": [
    "<h1> ---------------------------------------------------------------------------------------------------------- </h1>\n",
    "<h1 style=\"color: red;\">Analysis and Conclusion</h1>"
   ]
  },
  {
   "cell_type": "markdown",
   "id": "b5a701c0",
   "metadata": {},
   "source": [
    "## Accuracy\n",
    "Both models are very accurate. The Decision Tree model is a bit better than the Logistic Regression model when using the holdout technique.\n",
    "\n",
    "## Recall for Fraud Detection\n",
    "\n",
    "- **Logistic Regression**: The ability to find fraud is very low (around 0.07 to 0.09), meaning it misses many fraudulent transactions.\n",
    "- **Decision Tree**: The ability to find fraud is much higher (around 0.86), meaning it finds most fraudulent transactions.\n",
    "\n",
    "## Cross-Validation vs. Holdout\n",
    "\n",
    "- **Cross-Validation**: Gives a more reliable measure of model performance by averaging results over multiple tests. The average accuracy for Logistic Regression is a bit lower than the holdout technique but more reliable.\n",
    "- **Holdout Technique**: Shows slightly higher accuracy for Logistic Regression but with much lower ability to find fraud.\n",
    "\n",
    "## Recommendation\n",
    "Because finding fraud is very important (we want to miss as few fraudulent transactions as possible), the Decision Tree model using the holdout technique is the better choice. This model not only has the highest accuracy but also a much better ability to find fraud compared to Logistic Regression.\n",
    "\n",
    "The Decision Tree's ability to find fraud stays consistent across different training/test splits, showing it is reliable in finding fraudulent transactions. This balance between accuracy and the ability to find fraud makes it a better model for fraud detection in this case."
   ]
  },
  {
   "cell_type": "code",
   "execution_count": null,
   "id": "17d13734",
   "metadata": {},
   "outputs": [],
   "source": []
  }
 ],
 "metadata": {
  "kernelspec": {
   "display_name": "Python 3 (ipykernel)",
   "language": "python",
   "name": "python3"
  },
  "language_info": {
   "codemirror_mode": {
    "name": "ipython",
    "version": 3
   },
   "file_extension": ".py",
   "mimetype": "text/x-python",
   "name": "python",
   "nbconvert_exporter": "python",
   "pygments_lexer": "ipython3",
   "version": "3.11.5"
  }
 },
 "nbformat": 4,
 "nbformat_minor": 5
}
